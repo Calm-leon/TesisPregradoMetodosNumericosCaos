{
 "cells": [
  {
   "cell_type": "markdown",
   "metadata": {},
   "source": [
    "### Importaciones"
   ]
  },
  {
   "cell_type": "code",
   "execution_count": 41,
   "metadata": {},
   "outputs": [],
   "source": [
    "import numpy as np\n",
    "import matplotlib.pyplot as plt\n",
    "import sympy as sp\n",
    "from sympy import symbols, Function, dsolve, exp, sin, pi, tan, sympify"
   ]
  },
  {
   "cell_type": "code",
   "execution_count": 42,
   "metadata": {},
   "outputs": [
    {
     "data": {
      "text/latex": [
       "$\\displaystyle 2 \\operatorname{atan}{\\left(0.152158214864277 e^{e^{t} - 1} \\right)}$"
      ],
      "text/plain": [
       "2*atan(0.152158214864277*exp(exp(t) - 1))"
      ]
     },
     "execution_count": 42,
     "metadata": {},
     "output_type": "execute_result"
    }
   ],
   "source": [
    "# Definir el símbolo t\n",
    "t = sp.symbols('t')\n",
    "\n",
    "# Definir la función simbólica\n",
    "funcion_simbolica = 2 * sp.atan(sp.tan(151/1000) * sp.exp(sp.exp(t) - 1))\n",
    "\n",
    "funcion_simbolica"
   ]
  },
  {
   "cell_type": "code",
   "execution_count": 43,
   "metadata": {},
   "outputs": [],
   "source": [
    "numero_iteraciones3 = 420\n",
    "numero_iteraciones1 = 1400\n",
    "numero_iteraciones01 = 4200"
   ]
  },
  {
   "cell_type": "code",
   "execution_count": 44,
   "metadata": {},
   "outputs": [],
   "source": [
    "paso_inicial_T = -4\n",
    "paso_final_T = 25\n",
    "paso_inicial_X = 0.301"
   ]
  },
  {
   "cell_type": "code",
   "execution_count": 45,
   "metadata": {},
   "outputs": [
    {
     "name": "stdout",
     "output_type": "stream",
     "text": [
      "0.06904761904761905\n",
      "0.020714285714285713\n",
      "0.006904761904761905\n"
     ]
    }
   ],
   "source": [
    "delta_T_3 = (paso_final_T - paso_inicial_T)/numero_iteraciones3\n",
    "print(delta_T_3)\n",
    "delta_T_1 = (paso_final_T - paso_inicial_T)/numero_iteraciones1\n",
    "print(delta_T_1)\n",
    "delta_T_03 = (paso_final_T - paso_inicial_T)/numero_iteraciones01\n",
    "print(delta_T_03)"
   ]
  },
  {
   "cell_type": "markdown",
   "metadata": {},
   "source": [
    "### Iniciemos con la solucion exacta"
   ]
  },
  {
   "cell_type": "code",
   "execution_count": 46,
   "metadata": {},
   "outputs": [],
   "source": [
    "# Creamos una lista con un solo elemento de nuestro valore inicial de t\n",
    "vector_T_funcion_real = np.array([paso_inicial_T])\n",
    "        \n",
    "# Iteramos para crear el vector para realizar la graficación de la funcion exacta\n",
    "for iteracion in range(numero_iteraciones3):\n",
    "    t_i = (vector_T_funcion_real[iteracion] + delta_T_3) \n",
    "    vector_T_funcion_real = np.append(vector_T_funcion_real, t_i)\n",
    "\n",
    "# Evaluamos la función en cada valor de tiempo y almacenamos los resultados en una lista\n",
    "vector_f_solucion = [funcion_simbolica.subs({t: valor}) for valor in list(vector_T_funcion_real)]"
   ]
  },
  {
   "cell_type": "code",
   "execution_count": 47,
   "metadata": {},
   "outputs": [
    {
     "data": {
      "text/latex": [
       "$\\displaystyle 2 \\operatorname{atan}{\\left(0.152158214864277 e^{e^{t} - 1} \\right)}$"
      ],
      "text/plain": [
       "2*atan(0.152158214864277*exp(exp(t) - 1))"
      ]
     },
     "execution_count": 47,
     "metadata": {},
     "output_type": "execute_result"
    }
   ],
   "source": [
    "funcion_simbolica"
   ]
  },
  {
   "cell_type": "markdown",
   "metadata": {},
   "source": [
    "### Definición de las variables simbolicas"
   ]
  },
  {
   "cell_type": "code",
   "execution_count": 48,
   "metadata": {},
   "outputs": [],
   "source": [
    "t, x = sp.symbols('t x')"
   ]
  },
  {
   "cell_type": "markdown",
   "metadata": {},
   "source": [
    "Creamos la funcion programatica $f$  \n",
    "Como parametro tenemos la funcion que creamos, si no le pasamos este parametro usa nuestra funcion por defecto"
   ]
  },
  {
   "cell_type": "code",
   "execution_count": 49,
   "metadata": {},
   "outputs": [],
   "source": [
    "funcion_prueba = sp.sympify(\"sin(x)\")\n",
    "funcion_prueba2 = sp.exp(t)"
   ]
  },
  {
   "cell_type": "code",
   "execution_count": 50,
   "metadata": {},
   "outputs": [],
   "source": [
    "func_f = funcion_prueba*funcion_prueba2"
   ]
  },
  {
   "cell_type": "markdown",
   "metadata": {},
   "source": [
    "## Metodo de Runge-Kutta (Euler de cuarto orden)"
   ]
  },
  {
   "cell_type": "markdown",
   "metadata": {},
   "source": [
    "$x_{k+1} = x_{k} + (\\frac{m_{k} + 2n_{k} + 2p_{k} + q_{k}}{6})\\Delta t $"
   ]
  },
  {
   "cell_type": "code",
   "execution_count": 51,
   "metadata": {},
   "outputs": [],
   "source": [
    "# Creamos dos listas con un solo elemento que son nuestros valores iniciales\n",
    "vector_T_rk_03 = np.array([paso_inicial_T])\n",
    "vector_X_rk_03 = np.array([paso_inicial_X]) \n",
    "        \n",
    "# Iteramos para crear los vectores para realizar la graficación\n",
    "for iteracion in range(numero_iteraciones3):\n",
    "    dic_eval_rk_m = {\n",
    "        t: vector_T_rk_03[iteracion],\n",
    "        x: vector_X_rk_03[iteracion]\n",
    "    }\n",
    "    m_i = func_f.subs(dic_eval_rk_m).evalf()\n",
    "\n",
    "    dic_eval_rk_n = {\n",
    "        t: vector_T_rk_03[iteracion] + (delta_T_3/2),\n",
    "        x: vector_X_rk_03[iteracion] + m_i * (delta_T_3/2)\n",
    "    }\n",
    "    n_i = func_f.subs(dic_eval_rk_n).evalf()\n",
    "    \n",
    "    dic_eval_rk_p = {\n",
    "        t: vector_T_rk_03[iteracion] + (delta_T_3/2),\n",
    "        x: vector_X_rk_03[iteracion] + n_i * (delta_T_3/2)\n",
    "    }\n",
    "    p_i = func_f.subs(dic_eval_rk_p).evalf()\n",
    "\n",
    "    t_i = vector_T_rk_03[iteracion] + delta_T_3\n",
    "    vector_T_rk_03 = np.append(vector_T_rk_03, t_i)\n",
    "\n",
    "    dic_eval_rk_q = {\n",
    "        t: vector_T_rk_03[iteracion + 1] + (delta_T_3/2),\n",
    "        x: vector_X_rk_03[iteracion] + p_i * (delta_T_3)\n",
    "    }\n",
    "    q_i = func_f.subs(dic_eval_rk_q).evalf()\n",
    "\n",
    "    x_i = vector_X_rk_03[iteracion] + (delta_T_3/6) * (m_i + 2 * n_i + 2 * p_i + q_i)\n",
    "\n",
    "    # Almacenamos cada una de las iteraciones en los diferentes vectores\n",
    "    vector_X_rk_03 = np.append(vector_X_rk_03, x_i)"
   ]
  },
  {
   "cell_type": "code",
   "execution_count": 52,
   "metadata": {},
   "outputs": [],
   "source": [
    "# Creamos dos listas con un solo elemento que son nuestros valores iniciales\n",
    "vector_T_rk_01 = np.array([paso_inicial_T])\n",
    "vector_X_rk_01 = np.array([paso_inicial_X]) \n",
    "        \n",
    "# Iteramos para crear los vectores para realizar la graficación\n",
    "for iteracion in range(numero_iteraciones1):\n",
    "    dic_eval_rk_m = {\n",
    "        t: vector_T_rk_01[iteracion],\n",
    "        x: vector_X_rk_01[iteracion]\n",
    "    }\n",
    "    m_i = func_f.subs(dic_eval_rk_m).evalf()\n",
    "\n",
    "    dic_eval_rk_n = {\n",
    "        t: vector_T_rk_01[iteracion] + (delta_T_1/2),\n",
    "        x: vector_X_rk_01[iteracion] + m_i * (delta_T_1/2)\n",
    "    }\n",
    "    n_i = func_f.subs(dic_eval_rk_n).evalf()\n",
    "    \n",
    "    dic_eval_rk_p = {\n",
    "        t: vector_T_rk_01[iteracion] + (delta_T_1/2),\n",
    "        x: vector_X_rk_01[iteracion] + n_i * (delta_T_1/2)\n",
    "    }\n",
    "    p_i = func_f.subs(dic_eval_rk_p).evalf()\n",
    "\n",
    "    t_i = vector_T_rk_01[iteracion] + delta_T_1\n",
    "    vector_T_rk_01 = np.append(vector_T_rk_01, t_i)\n",
    "\n",
    "    dic_eval_rk_q = {\n",
    "        t: vector_T_rk_01[iteracion + 1] + (delta_T_1/2),\n",
    "        x: vector_X_rk_01[iteracion] + p_i * (delta_T_1)\n",
    "    }\n",
    "    q_i = func_f.subs(dic_eval_rk_q).evalf()\n",
    "\n",
    "    x_i = vector_X_rk_01[iteracion] + (delta_T_1/6) * (m_i + 2 * n_i + 2 * p_i + q_i)\n",
    "\n",
    "    # Almacenamos cada una de las iteraciones en los diferentes vectores\n",
    "    vector_X_rk_01 = np.append(vector_X_rk_01, x_i)"
   ]
  },
  {
   "cell_type": "code",
   "execution_count": 53,
   "metadata": {},
   "outputs": [],
   "source": [
    "# Creamos dos listas con un solo elemento que son nuestros valores iniciales\n",
    "vector_T_rk_003 = np.array([paso_inicial_T])\n",
    "vector_X_rk_003 = np.array([paso_inicial_X]) \n",
    "        \n",
    "# Iteramos para crear los vectores para realizar la graficación\n",
    "for iteracion in range(numero_iteraciones01):\n",
    "    dic_eval_rk_m = {\n",
    "        t: vector_T_rk_003[iteracion],\n",
    "        x: vector_X_rk_003[iteracion]\n",
    "    }\n",
    "    m_i = func_f.subs(dic_eval_rk_m).evalf()\n",
    "\n",
    "    dic_eval_rk_n = {\n",
    "        t: vector_T_rk_003[iteracion] + (delta_T_03/2),\n",
    "        x: vector_X_rk_003[iteracion] + m_i * (delta_T_03/2)\n",
    "    }\n",
    "    n_i = func_f.subs(dic_eval_rk_n).evalf()\n",
    "    \n",
    "    dic_eval_rk_p = {\n",
    "        t: vector_T_rk_003[iteracion] + (delta_T_03/2),\n",
    "        x: vector_X_rk_003[iteracion] + n_i * (delta_T_03/2)\n",
    "    }\n",
    "    p_i = func_f.subs(dic_eval_rk_p).evalf()\n",
    "\n",
    "    t_i = vector_T_rk_003[iteracion] + delta_T_03\n",
    "    vector_T_rk_003 = np.append(vector_T_rk_003, t_i)\n",
    "\n",
    "    dic_eval_rk_q = {\n",
    "        t: vector_T_rk_003[iteracion + 1] + (delta_T_03/2),\n",
    "        x: vector_X_rk_003[iteracion] + p_i * (delta_T_03)\n",
    "    }\n",
    "    q_i = func_f.subs(dic_eval_rk_q).evalf()\n",
    "\n",
    "    x_i = vector_X_rk_003[iteracion] + (delta_T_03/6) * (m_i + 2 * n_i + 2 * p_i + q_i)\n",
    "\n",
    "    # Almacenamos cada una de las iteraciones en los diferentes vectores\n",
    "    vector_X_rk_003 = np.append(vector_X_rk_003, x_i)"
   ]
  },
  {
   "cell_type": "markdown",
   "metadata": {},
   "source": [
    "### Si requiere ver los vectores resultantes basta expandir y correr las siguientes celdas"
   ]
  },
  {
   "cell_type": "code",
   "execution_count": 54,
   "metadata": {},
   "outputs": [
    {
     "data": {
      "text/plain": [
       "25.000000000000153"
      ]
     },
     "execution_count": 54,
     "metadata": {},
     "output_type": "execute_result"
    }
   ],
   "source": [
    "vector_T_funcion_real[420]"
   ]
  },
  {
   "cell_type": "code",
   "execution_count": 55,
   "metadata": {},
   "outputs": [
    {
     "data": {
      "text/latex": [
       "$\\displaystyle 3.14159265358979$"
      ],
      "text/plain": [
       "3.14159265358979"
      ]
     },
     "execution_count": 55,
     "metadata": {},
     "output_type": "execute_result"
    }
   ],
   "source": [
    "vector_f_solucion[420]"
   ]
  },
  {
   "cell_type": "code",
   "execution_count": 56,
   "metadata": {},
   "outputs": [
    {
     "data": {
      "text/latex": [
       "$\\displaystyle -3997883122.16721$"
      ],
      "text/plain": [
       "-3997883122.16721"
      ]
     },
     "execution_count": 56,
     "metadata": {},
     "output_type": "execute_result"
    }
   ],
   "source": [
    "vector_X_rk_03[420]"
   ]
  },
  {
   "cell_type": "code",
   "execution_count": 57,
   "metadata": {},
   "outputs": [
    {
     "data": {
      "text/latex": [
       "$\\displaystyle -4165225776.34665$"
      ],
      "text/plain": [
       "-4165225776.34665"
      ]
     },
     "execution_count": 57,
     "metadata": {},
     "output_type": "execute_result"
    }
   ],
   "source": [
    "vector_X_rk_01[1400]"
   ]
  },
  {
   "cell_type": "code",
   "execution_count": 58,
   "metadata": {},
   "outputs": [
    {
     "data": {
      "text/latex": [
       "$\\displaystyle 1995894458.18847$"
      ],
      "text/plain": [
       "1995894458.18847"
      ]
     },
     "execution_count": 58,
     "metadata": {},
     "output_type": "execute_result"
    }
   ],
   "source": [
    "vector_X_rk_003[4200]"
   ]
  },
  {
   "cell_type": "markdown",
   "metadata": {},
   "source": [
    "### Grafica trajando"
   ]
  },
  {
   "cell_type": "code",
   "execution_count": 59,
   "metadata": {},
   "outputs": [
    {
     "data": {
      "image/png": "[encoded data removed]",
      "text/plain": [
       "<Figure size 800x600 with 1 Axes>"
      ]
     },
     "metadata": {},
     "output_type": "display_data"
    }
   ],
   "source": [
    "plt.figure(figsize=(8, 6))\n",
    "plt.text(2.5, -570, 'x(t)', rotation='horizontal', fontsize=12)  # Colocar 'x(t)' verticalmente\n",
    "plt.xticks(np.arange(0, 10, 1))  # Marcas cada unidad en el eje x\n",
    "plt.yticks(np.arange(-2000, 1000, 250))  # Marcas cada unidad en el eje y\n",
    "plt.grid(True, linewidth=0.3)  # Ajusta el ancho de las líneas de la cuadrícula\n",
    "plt.xlabel('$t$')\n",
    "plt.plot(\n",
    "    vector_T_rk_03[250:],\n",
    "    vector_X_rk_03[250:],\n",
    "    label=\"$\\Delta t = 0.3$\",\n",
    "    color='blue',\n",
    "    linestyle='-.',\n",
    "    linewidth=0.9,\n",
    "    markersize=12, \n",
    ")\n",
    "plt.plot(\n",
    "    vector_T_rk_01[900:],\n",
    "    vector_X_rk_01[900:],\n",
    "    label=\"$\\Delta t = 0.1$\",\n",
    "    color='darkgreen',\n",
    "    linestyle='-.',\n",
    "    linewidth=0.9,\n",
    "    markersize=12, \n",
    ")\n",
    "plt.plot(\n",
    "    vector_T_rk_003[2500:],\n",
    "    vector_X_rk_003[2500:],\n",
    "    label=\"$\\Delta t = 0.03$\",\n",
    "    color='darkred',\n",
    "    linestyle='-.',\n",
    "    alpha = 0.6,\n",
    "    linewidth=1.1,\n",
    "    markersize=12, \n",
    ")\n",
    "plt.plot(\n",
    "    vector_T_funcion_real[230:],\n",
    "    vector_f_solucion[230:],\n",
    "    label=\"Solución analítica\",\n",
    "    color='navy',\n",
    "    linestyle='-',\n",
    "    alpha = 0.4,\n",
    "    linewidth=0.9,\n",
    "    markersize=12, \n",
    ")\n",
    "plt.legend()  # Esto coloca la leyenda en la esquina superior izquierda\n",
    "plt.title(\"Caos de Runge-Kutta\")\n",
    "plt.savefig(\"Caos de Runge-Kutta.pdf\")  # Con esta se guarda la imagen en formato pdf\n",
    "plt.show()"
   ]
  },
  {
   "cell_type": "markdown",
   "metadata": {},
   "source": [
    "### Grafica inicial"
   ]
  },
  {
   "cell_type": "code",
   "execution_count": 60,
   "metadata": {},
   "outputs": [
    {
     "data": {
      "image/png": "[encoded data removed]",
      "text/plain": [
       "<Figure size 640x480 with 1 Axes>"
      ]
     },
     "metadata": {},
     "output_type": "display_data"
    }
   ],
   "source": [
    "plt.plot(\n",
    "    vector_T_rk_03,\n",
    "    vector_X_rk_03,\n",
    "    label=\"0.3\",\n",
    "    color='blue',\n",
    "    linestyle='-.',\n",
    "    linewidth=0.9,\n",
    "    markersize=12, \n",
    ")\n",
    "plt.plot(\n",
    "    vector_T_rk_01,\n",
    "    vector_X_rk_01,\n",
    "    label=\"0.301\",\n",
    "    color='darkgreen',\n",
    "    linestyle='-.',\n",
    "    linewidth=0.9,\n",
    "    markersize=12, \n",
    ")\n",
    "plt.plot(\n",
    "    vector_T_rk_003,\n",
    "    vector_X_rk_003,\n",
    "    label=\"0.302\",\n",
    "    color='darkred',\n",
    "    linestyle='-.',\n",
    "    alpha = 0.6,\n",
    "    linewidth=1.1,\n",
    "    markersize=12, \n",
    ")\n",
    "plt.plot(\n",
    "    vector_T_funcion_real,\n",
    "    vector_f_solucion,\n",
    "    label=\"Solución analítica\",\n",
    "    color='navy',\n",
    "    linestyle='-',\n",
    "    alpha = 0.4,\n",
    "    linewidth=0.9,\n",
    "    markersize=12, \n",
    ")\n",
    "plt.show()"
   ]
  }
 ],
 "metadata": {
  "kernelspec": {
   "display_name": "Python 3",
   "language": "python",
   "name": "python3"
  },
  "language_info": {
   "codemirror_mode": {
    "name": "ipython",
    "version": 3
   },
   "file_extension": ".py",
   "mimetype": "text/x-python",
   "name": "python",
   "nbconvert_exporter": "python",
   "pygments_lexer": "ipython3",
   "version": "3.10.12"
  }
 },
 "nbformat": 4,
 "nbformat_minor": 2
}
