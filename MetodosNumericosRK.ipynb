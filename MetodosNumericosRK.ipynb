{
 "cells": [
  {
   "cell_type": "markdown",
   "metadata": {},
   "source": [
    "### Importaciones"
   ]
  },
  {
   "cell_type": "code",
   "execution_count": 69,
   "metadata": {},
   "outputs": [],
   "source": [
    "import numpy as np\n",
    "import matplotlib.pyplot as plt\n",
    "import sympy as sp\n",
    "from sympy import symbols, Function, dsolve, exp, sin, pi, tan"
   ]
  },
  {
   "cell_type": "markdown",
   "metadata": {},
   "source": [
    "### Definicion de la funcion"
   ]
  },
  {
   "cell_type": "markdown",
   "metadata": {},
   "source": [
    "Nuestra funcion por defecto es $f(t,x) = x$  \n",
    "( Más adelante veremos que podemos cambiar la función si se requiere)"
   ]
  },
  {
   "cell_type": "code",
   "execution_count": 70,
   "metadata": {},
   "outputs": [],
   "source": [
    "def funcion_f(ecuacion:str=\"x\"):\n",
    "    function = sp.sympify(ecuacion)\n",
    "    return function"
   ]
  },
  {
   "cell_type": "markdown",
   "metadata": {},
   "source": [
    "*Digite el numero de iteraciones deseadas:*"
   ]
  },
  {
   "cell_type": "code",
   "execution_count": 71,
   "metadata": {},
   "outputs": [],
   "source": [
    "numero_iteraciones = 4"
   ]
  },
  {
   "cell_type": "markdown",
   "metadata": {},
   "source": [
    "*Digite el valor inicial en t:*"
   ]
  },
  {
   "cell_type": "code",
   "execution_count": 72,
   "metadata": {},
   "outputs": [],
   "source": [
    "paso_inicial_T = -0.4"
   ]
  },
  {
   "cell_type": "markdown",
   "metadata": {},
   "source": [
    "*Digite el valor final en t:*"
   ]
  },
  {
   "cell_type": "code",
   "execution_count": 73,
   "metadata": {},
   "outputs": [],
   "source": [
    "paso_final_T = 0.4"
   ]
  },
  {
   "cell_type": "markdown",
   "metadata": {},
   "source": [
    "*Digite la condicion inicial de $x(t)$:*"
   ]
  },
  {
   "cell_type": "code",
   "execution_count": 74,
   "metadata": {},
   "outputs": [],
   "source": [
    "paso_inicial_X = 1.384868848732684"
   ]
  },
  {
   "cell_type": "markdown",
   "metadata": {},
   "source": [
    "*A continuación calcularemos el $\\Delta t$*"
   ]
  },
  {
   "cell_type": "code",
   "execution_count": 75,
   "metadata": {},
   "outputs": [
    {
     "data": {
      "text/plain": [
       "0.2"
      ]
     },
     "execution_count": 75,
     "metadata": {},
     "output_type": "execute_result"
    }
   ],
   "source": [
    "delta_T = (paso_final_T - paso_inicial_T)/numero_iteraciones\n",
    "delta_T"
   ]
  },
  {
   "cell_type": "markdown",
   "metadata": {},
   "source": [
    "### Iniciemos con la solucion exacta"
   ]
  },
  {
   "cell_type": "code",
   "execution_count": 76,
   "metadata": {},
   "outputs": [
    {
     "data": {
      "text/latex": [
       "$\\displaystyle x{\\left(t \\right)} = \\tan{\\left(t^{2} + \\frac{\\pi}{4} \\right)}$"
      ],
      "text/plain": [
       "Eq(x(t), tan(t**2 + pi/4))"
      ]
     },
     "execution_count": 76,
     "metadata": {},
     "output_type": "execute_result"
    }
   ],
   "source": [
    "# Definir la variable independiente \n",
    "t = symbols('t')\n",
    "\n",
    "# Esta es una funcion que depende de t\n",
    "x = Function('x')(t)\n",
    "\n",
    "#funcion_m = sin(t)\n",
    "funcion_m = (2*t*(1+x**2))\n",
    "#funcion_m = x\n",
    "# Definir la ecuación diferencial (Homogenea)\n",
    "edo = x.diff(t) - funcion_m\n",
    "# Resolver la ecuación diferencial y darle su valor inicial\n",
    "\n",
    "solucion = dsolve(edo, x, ics={x.subs(t, 0): 1})\n",
    "solucion"
   ]
  },
  {
   "cell_type": "code",
   "execution_count": 77,
   "metadata": {},
   "outputs": [],
   "source": [
    "# Creamos una lista con un solo elemento de nuestro valore inicial de t\n",
    "vector_T_funcion_real = np.array([paso_inicial_T])\n",
    "        \n",
    "# Iteramos para crear el vector para realizar la graficación de la funcion exacta\n",
    "for iteracion in range(numero_iteraciones*10):\n",
    "    t_i = (vector_T_funcion_real[iteracion] + delta_T/ 10) \n",
    "    vector_T_funcion_real = np.append(vector_T_funcion_real, t_i)\n",
    "\n",
    "# Evaluamos la función en cada valor de tiempo y almacenamos los resultados en una lista\n",
    "vector_f_solucion = [solucion.rhs.subs({t: valor}) for valor in list(vector_T_funcion_real)]"
   ]
  },
  {
   "cell_type": "code",
   "execution_count": 78,
   "metadata": {},
   "outputs": [
    {
     "data": {
      "text/plain": [
       "[tan(0.16 + pi/4),\n",
       " tan(0.1444 + pi/4),\n",
       " tan(0.1296 + pi/4),\n",
       " tan(0.1156 + pi/4),\n",
       " tan(0.1024 + pi/4),\n",
       " tan(0.09 + pi/4),\n",
       " tan(0.0784 + pi/4),\n",
       " tan(0.0676 + pi/4),\n",
       " tan(0.0576 + pi/4),\n",
       " tan(0.0484 + pi/4),\n",
       " tan(0.04 + pi/4),\n",
       " tan(0.0324 + pi/4),\n",
       " tan(0.0256 + pi/4),\n",
       " tan(0.0196 + pi/4),\n",
       " tan(0.0144 + pi/4),\n",
       " tan(0.00999999999999999 + pi/4),\n",
       " tan(0.00639999999999999 + pi/4),\n",
       " tan(0.00359999999999999 + pi/4),\n",
       " tan(0.0016 + pi/4),\n",
       " tan(0.000399999999999998 + pi/4),\n",
       " tan(3.90000813738415e-33 + pi/4),\n",
       " tan(0.000400000000000003 + pi/4),\n",
       " tan(0.00160000000000001 + pi/4),\n",
       " tan(0.00360000000000001 + pi/4),\n",
       " tan(0.00640000000000001 + pi/4),\n",
       " tan(0.01 + pi/4),\n",
       " tan(0.0144 + pi/4),\n",
       " tan(0.0196 + pi/4),\n",
       " tan(0.0256 + pi/4),\n",
       " tan(0.0324 + pi/4),\n",
       " tan(0.04 + pi/4),\n",
       " tan(0.0484 + pi/4),\n",
       " tan(0.0576 + pi/4),\n",
       " tan(0.0676 + pi/4),\n",
       " tan(0.0784 + pi/4),\n",
       " tan(0.09 + pi/4),\n",
       " tan(0.1024 + pi/4),\n",
       " tan(0.1156 + pi/4),\n",
       " tan(0.1296 + pi/4),\n",
       " tan(0.1444 + pi/4),\n",
       " tan(0.16 + pi/4)]"
      ]
     },
     "execution_count": 78,
     "metadata": {},
     "output_type": "execute_result"
    }
   ],
   "source": [
    "vector_f_solucion"
   ]
  },
  {
   "cell_type": "markdown",
   "metadata": {},
   "source": [
    "### Definición de las variables simbolicas"
   ]
  },
  {
   "cell_type": "code",
   "execution_count": 79,
   "metadata": {},
   "outputs": [],
   "source": [
    "t, x = sp.symbols('t x')"
   ]
  },
  {
   "cell_type": "code",
   "execution_count": 80,
   "metadata": {},
   "outputs": [],
   "source": [
    "fun = \"(2*t*(1+x**2))\""
   ]
  },
  {
   "cell_type": "markdown",
   "metadata": {},
   "source": [
    "Creamos la funcion programatica $f$  \n",
    "Como parametro tenemos la funcion que creamos, si no le pasamos este parametro usa nuestra funcion por defecto"
   ]
  },
  {
   "cell_type": "code",
   "execution_count": 81,
   "metadata": {},
   "outputs": [
    {
     "data": {
      "text/latex": [
       "$\\displaystyle 2 t \\left(x^{2} + 1\\right)$"
      ],
      "text/plain": [
       "2*t*(x**2 + 1)"
      ]
     },
     "execution_count": 81,
     "metadata": {},
     "output_type": "execute_result"
    }
   ],
   "source": [
    "func_f = funcion_f(fun)\n",
    "func_f"
   ]
  },
  {
   "cell_type": "markdown",
   "metadata": {},
   "source": [
    "## Metodo de Euler"
   ]
  },
  {
   "cell_type": "markdown",
   "metadata": {},
   "source": [
    "$x_{k+1} = x_{k} + f(t_{k},x_{k})\\Delta t$"
   ]
  },
  {
   "cell_type": "code",
   "execution_count": 82,
   "metadata": {},
   "outputs": [],
   "source": [
    "# Creamos dos listas con un solo elemento que son nuestros valores iniciales\n",
    "vector_T_euler = np.array([paso_inicial_T])\n",
    "vector_X_euler = np.array([paso_inicial_X]) \n",
    "        \n",
    "# Iteramos para crear los vectores para realizar la graficación\n",
    "for iteracion in range(numero_iteraciones):\n",
    "    dic_evaluar = {\n",
    "        t: vector_T_euler[iteracion],\n",
    "        x: vector_X_euler[iteracion]\n",
    "    }\n",
    "    t_i = vector_T_euler[iteracion] + delta_T\n",
    "    x_i = vector_X_euler[iteracion] + func_f.subs(dic_evaluar) * delta_T\n",
    "\n",
    "    # Almacenamos cada una de las iteraciones en los diferentes vectores\n",
    "    vector_T_euler = np.append(vector_T_euler, t_i)\n",
    "    vector_X_euler = np.append(vector_X_euler, x_i)"
   ]
  },
  {
   "cell_type": "markdown",
   "metadata": {},
   "source": [
    "### Grafiquemos"
   ]
  },
  {
   "cell_type": "markdown",
   "metadata": {},
   "source": [
    "## Metodo de Runge-Kutta (Euler de cuarto orden)"
   ]
  },
  {
   "cell_type": "markdown",
   "metadata": {},
   "source": [
    "$x_{k+1} = x_{k} + (\\frac{m_{k} + 2n_{k} + 2p_{k} + q_{k}}{6})\\Delta t $"
   ]
  },
  {
   "cell_type": "markdown",
   "metadata": {},
   "source": [
    "Definamos $m_{k} , n_{k} , p_{k} , q_{k}$"
   ]
  },
  {
   "cell_type": "markdown",
   "metadata": {},
   "source": [
    "$m_{k} = f(t_{k},x_{k})$"
   ]
  },
  {
   "cell_type": "markdown",
   "metadata": {},
   "source": [
    "$n_{k} = f(t_{k} + \\frac{\\Delta t}{2}, y_{k} )$  donde  $y_{k} = x_{k} + m_{k} \\frac{\\Delta t}{2}$"
   ]
  },
  {
   "cell_type": "markdown",
   "metadata": {},
   "source": [
    "$p_{k} = f(t_{k} + \\frac{\\Delta t}{2}, z_{k} )$  donde  $z_{k} = x_{k} + n_{k}\\frac{\\Delta t}{2}$"
   ]
  },
  {
   "cell_type": "markdown",
   "metadata": {},
   "source": [
    "$q_{k} = f(t_{k+1}, w_{k})$  donde  $w_{k} = x_{k} + p_{k}\\Delta t$"
   ]
  },
  {
   "cell_type": "code",
   "execution_count": 83,
   "metadata": {},
   "outputs": [],
   "source": [
    "# Creamos dos listas con un solo elemento que son nuestros valores iniciales\n",
    "vector_T_rk = np.array([paso_inicial_T])\n",
    "vector_X_rk = np.array([paso_inicial_X]) \n",
    "        \n",
    "# Iteramos para crear los vectores para realizar la graficación\n",
    "for iteracion in range(numero_iteraciones):\n",
    "    dic_eval_rk_m = {\n",
    "        t: vector_T_rk[iteracion],\n",
    "        x: vector_X_rk[iteracion]\n",
    "    }\n",
    "    m_i = func_f.subs(dic_eval_rk_m)\n",
    "\n",
    "    dic_eval_rk_n = {\n",
    "        t: vector_T_rk[iteracion] + (delta_T/2),\n",
    "        x: vector_X_rk[iteracion] + m_i * (delta_T/2)\n",
    "    }\n",
    "    n_i = func_f.subs(dic_eval_rk_n)\n",
    "    \n",
    "    dic_eval_rk_p = {\n",
    "        t: vector_T_rk[iteracion] + (delta_T/2),\n",
    "        x: vector_X_rk[iteracion] + n_i * (delta_T/2)\n",
    "    }\n",
    "    p_i = func_f.subs(dic_eval_rk_p)\n",
    "\n",
    "    t_i = vector_T_rk[iteracion] + delta_T\n",
    "    vector_T_rk = np.append(vector_T_rk, t_i)\n",
    "\n",
    "    dic_eval_rk_q = {\n",
    "        t: vector_T_rk[iteracion + 1] + (delta_T/2),\n",
    "        x: vector_X_rk[iteracion] + p_i * (delta_T)\n",
    "    }\n",
    "    q_i = func_f.subs(dic_eval_rk_q)\n",
    "\n",
    "    x_i = vector_X_rk[iteracion] + (delta_T/6) * (m_i + 2 * n_i + 2 * p_i + q_i)\n",
    "\n",
    "    # Almacenamos cada una de las iteraciones en los diferentes vectores\n",
    "    vector_X_rk = np.append(vector_X_rk, x_i)"
   ]
  },
  {
   "cell_type": "markdown",
   "metadata": {},
   "source": [
    "### Si requiere ver los vectores resultantes basta expandir y correr las siguientes celdas"
   ]
  },
  {
   "cell_type": "code",
   "execution_count": 84,
   "metadata": {},
   "outputs": [
    {
     "data": {
      "text/plain": [
       "5"
      ]
     },
     "execution_count": 84,
     "metadata": {},
     "output_type": "execute_result"
    }
   ],
   "source": [
    "len(vector_T_rk)"
   ]
  },
  {
   "cell_type": "code",
   "execution_count": 86,
   "metadata": {},
   "outputs": [
    {
     "data": {
      "text/plain": [
       "41"
      ]
     },
     "execution_count": 86,
     "metadata": {},
     "output_type": "execute_result"
    }
   ],
   "source": [
    "len(vector_f_solucion)"
   ]
  },
  {
   "cell_type": "markdown",
   "metadata": {},
   "source": [
    "### Grafiquemos"
   ]
  },
  {
   "cell_type": "code",
   "execution_count": 87,
   "metadata": {},
   "outputs": [
    {
     "data": {
      "image/png": "[encoded data removed]",
      "text/plain": [
       "<Figure size 800x600 with 1 Axes>"
      ]
     },
     "metadata": {},
     "output_type": "display_data"
    }
   ],
   "source": [
    "plt.figure(figsize=(8, 6))\n",
    "plt.text(-0.54, 1.15, 'x(t)', rotation='horizontal', fontsize=12)  # Colocar 'x(t)' verticalmente\n",
    "plt.xticks(np.arange(-0.5, 0.5, 0.1))  # Marcas cada unidad en el eje x\n",
    "plt.yticks(np.arange(0, 7, 0.1))  # Marcas cada unidad en el eje y\n",
    "plt.grid(True, linewidth=0.3)  # Ajusta el ancho de las líneas de la cuadrícula\n",
    "plt.axhline(0.8, color='black', linewidth=0.8)  # Línea horizontal en y=0\n",
    "plt.axvline(0, color='black', linewidth=0.8)  # Línea vertical en x=0\n",
    "plt.xlabel('$t$')\n",
    "plt.plot(\n",
    "    vector_T_euler,\n",
    "    vector_X_euler,\n",
    "    label=\"Método Euler\",\n",
    "    color='darkgreen',\n",
    "    linestyle='-.',\n",
    "    linewidth=0.9,\n",
    "    markersize=12, \n",
    ")\n",
    "plt.plot(\n",
    "    vector_T_rk,\n",
    "    vector_X_rk,\n",
    "    label=\"Método Runge-Kutta\",\n",
    "    color='darkred',\n",
    "    linestyle='-.',\n",
    "    alpha = 0.6,\n",
    "    linewidth=1.1,\n",
    "    markersize=12, \n",
    ")\n",
    "plt.plot(\n",
    "    vector_T_funcion_real,\n",
    "    vector_f_solucion,\n",
    "    label=\"Solución analítica\",\n",
    "    color='navy',\n",
    "    linestyle='-',\n",
    "    alpha = 0.4,\n",
    "    linewidth=0.9,\n",
    "    markersize=12, \n",
    ")\n",
    "plt.legend()  # Esto coloca la leyenda en la esquina superior izquierda\n",
    "plt.title(\"Comparación métodos de Euler y Runge Kutta $\\Delta t = 0.2$\")\n",
    "plt.savefig(\"Comparación métodos de Euler y Runge Kutta $\\Delta t = 0.2$.pdf\")  # Con esta se guarda la imagen en formato pdf\n",
    "plt.show()"
   ]
  }
 ],
 "metadata": {
  "kernelspec": {
   "display_name": "Python 3",
   "language": "python",
   "name": "python3"
  },
  "language_info": {
   "codemirror_mode": {
    "name": "ipython",
    "version": 3
   },
   "file_extension": ".py",
   "mimetype": "text/x-python",
   "name": "python",
   "nbconvert_exporter": "python",
   "pygments_lexer": "ipython3",
   "version": "3.10.12"
  }
 },
 "nbformat": 4,
 "nbformat_minor": 2
}
