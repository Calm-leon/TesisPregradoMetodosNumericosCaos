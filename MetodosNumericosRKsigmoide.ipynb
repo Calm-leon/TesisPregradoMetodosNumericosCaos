{
 "cells": [
  {
   "cell_type": "markdown",
   "metadata": {},
   "source": [
    "### Importaciones"
   ]
  },
  {
   "cell_type": "code",
   "execution_count": 270,
   "metadata": {},
   "outputs": [],
   "source": [
    "import numpy as np\n",
    "import matplotlib.pyplot as plt\n",
    "import sympy as sp\n",
    "from sympy import symbols, Function, dsolve, exp, sin, pi, tan, sympify"
   ]
  },
  {
   "cell_type": "markdown",
   "metadata": {},
   "source": [
    "### Definicion de la funcion"
   ]
  },
  {
   "cell_type": "code",
   "execution_count": 271,
   "metadata": {},
   "outputs": [],
   "source": [
    "def funcion_f(ecuacion:str=\"x\"):\n",
    "    function = sp.sympify(ecuacion)\n",
    "    return function"
   ]
  },
  {
   "cell_type": "code",
   "execution_count": 272,
   "metadata": {},
   "outputs": [
    {
     "data": {
      "text/latex": [
       "$\\displaystyle 2 \\operatorname{atan}{\\left(0.152158214864277 e^{e^{t} - 1} \\right)}$"
      ],
      "text/plain": [
       "2*atan(0.152158214864277*exp(exp(t) - 1))"
      ]
     },
     "execution_count": 272,
     "metadata": {},
     "output_type": "execute_result"
    }
   ],
   "source": [
    "# Definir el símbolo t\n",
    "t = sp.symbols('t')\n",
    "\n",
    "# Definir la función simbólica\n",
    "#funcion_simbolica = 2 * sp.atan(sp.tan(3/20) * sp.exp(sp.exp(t) - 1))\n",
    "#funcion_simbolica = 2 * sp.atan(sp.tan(301/2000) * sp.exp(sp.exp(t) - 1))\n",
    "funcion_simbolica = 2 * sp.atan(sp.tan(151/1000) * sp.exp(sp.exp(t) - 1))\n",
    "\n",
    "\n",
    "\n",
    "funcion_simbolica"
   ]
  },
  {
   "cell_type": "markdown",
   "metadata": {},
   "source": [
    "*Digite el numero de iteraciones deseadas:*"
   ]
  },
  {
   "cell_type": "code",
   "execution_count": 273,
   "metadata": {},
   "outputs": [],
   "source": [
    "numero_iteraciones = 8"
   ]
  },
  {
   "cell_type": "markdown",
   "metadata": {},
   "source": [
    "*Digite el valor inicial en t:*"
   ]
  },
  {
   "cell_type": "code",
   "execution_count": 274,
   "metadata": {},
   "outputs": [],
   "source": [
    "paso_inicial_T = -4"
   ]
  },
  {
   "cell_type": "markdown",
   "metadata": {},
   "source": [
    "*Digite el valor final en t:*"
   ]
  },
  {
   "cell_type": "code",
   "execution_count": 275,
   "metadata": {},
   "outputs": [],
   "source": [
    "paso_final_T = 4"
   ]
  },
  {
   "cell_type": "markdown",
   "metadata": {},
   "source": [
    "*Digite la condicion inicial de $x(t)$:*"
   ]
  },
  {
   "cell_type": "code",
   "execution_count": 276,
   "metadata": {},
   "outputs": [],
   "source": [
    "#paso_inicial_X = 0.113133703876801\n",
    "paso_inicial_X = 0.113515741506437\n",
    "paso_inicial_X = 0.113897828780627"
   ]
  },
  {
   "cell_type": "markdown",
   "metadata": {},
   "source": [
    "*A continuación calcularemos el $\\Delta t$*"
   ]
  },
  {
   "cell_type": "code",
   "execution_count": 277,
   "metadata": {},
   "outputs": [
    {
     "data": {
      "text/plain": [
       "1.0"
      ]
     },
     "execution_count": 277,
     "metadata": {},
     "output_type": "execute_result"
    }
   ],
   "source": [
    "delta_T = (paso_final_T - paso_inicial_T)/numero_iteraciones\n",
    "delta_T"
   ]
  },
  {
   "cell_type": "markdown",
   "metadata": {},
   "source": [
    "### Iniciemos con la solucion exacta"
   ]
  },
  {
   "cell_type": "code",
   "execution_count": 278,
   "metadata": {},
   "outputs": [],
   "source": [
    "# Creamos una lista con un solo elemento de nuestro valore inicial de t\n",
    "vector_T_funcion_real = np.array([paso_inicial_T])\n",
    "        \n",
    "# Iteramos para crear el vector para realizar la graficación de la funcion exacta\n",
    "for iteracion in range(numero_iteraciones*10):\n",
    "    t_i = (vector_T_funcion_real[iteracion] + delta_T/ 10) \n",
    "    vector_T_funcion_real = np.append(vector_T_funcion_real, t_i)\n",
    "\n",
    "# Evaluamos la función en cada valor de tiempo y almacenamos los resultados en una lista\n",
    "vector_f_solucion = [funcion_simbolica.subs({t: valor}) for valor in list(vector_T_funcion_real)]"
   ]
  },
  {
   "cell_type": "markdown",
   "metadata": {},
   "source": [
    "### Definición de las variables simbolicas"
   ]
  },
  {
   "cell_type": "code",
   "execution_count": 279,
   "metadata": {},
   "outputs": [],
   "source": [
    "t, x = sp.symbols('t x')"
   ]
  },
  {
   "cell_type": "code",
   "execution_count": 280,
   "metadata": {},
   "outputs": [],
   "source": [
    "fun = \"e^t*sin(x)\""
   ]
  },
  {
   "cell_type": "markdown",
   "metadata": {},
   "source": [
    "Creamos la funcion programatica $f$  \n",
    "Como parametro tenemos la funcion que creamos, si no le pasamos este parametro usa nuestra funcion por defecto"
   ]
  },
  {
   "cell_type": "code",
   "execution_count": 281,
   "metadata": {},
   "outputs": [],
   "source": [
    "\"\"\" func_f = funcion_f(fun)\n",
    "(func_f.evalf(subs ={x:2,t:2})).evalf() \"\"\"\n",
    "funcion_prueba = sp.sympify(\"sin(x)\")\n",
    "funcion_prueba2 = sp.exp(t)"
   ]
  },
  {
   "cell_type": "code",
   "execution_count": 282,
   "metadata": {},
   "outputs": [],
   "source": [
    "func_f = funcion_prueba*funcion_prueba2"
   ]
  },
  {
   "cell_type": "markdown",
   "metadata": {},
   "source": [
    "## Metodo de Euler"
   ]
  },
  {
   "cell_type": "markdown",
   "metadata": {},
   "source": [
    "$x_{k+1} = x_{k} + f(t_{k},x_{k})\\Delta t$"
   ]
  },
  {
   "cell_type": "code",
   "execution_count": 283,
   "metadata": {},
   "outputs": [],
   "source": [
    "# Creamos dos listas con un solo elemento que son nuestros valores iniciales\n",
    "vector_T_euler = np.array([paso_inicial_T])\n",
    "vector_X_euler = np.array([paso_inicial_X]) \n",
    "        \n",
    "# Iteramos para crear los vectores para realizar la graficación\n",
    "for iteracion in range(numero_iteraciones):\n",
    "    dic_evaluar = {\n",
    "        t: vector_T_euler[iteracion],\n",
    "        x: vector_X_euler[iteracion]\n",
    "    }\n",
    "    t_i = vector_T_euler[iteracion] + delta_T\n",
    "    x_i = vector_X_euler[iteracion] + func_f.subs(dic_evaluar).evalf() * delta_T\n",
    "\n",
    "    # Almacenamos cada una de las iteraciones en los diferentes vectores\n",
    "    vector_T_euler = np.append(vector_T_euler, t_i)\n",
    "    vector_X_euler = np.append(vector_X_euler, x_i)"
   ]
  },
  {
   "cell_type": "code",
   "execution_count": 284,
   "metadata": {},
   "outputs": [
    {
     "data": {
      "text/plain": [
       "array([0.113897828780627, 0.115979432785699, 0.121740772254191,\n",
       "       0.138175926776766, 0.188846411188297, 0.376572351653783,\n",
       "       1.37618015725598, 8.62574543923822, 23.0206823180488], dtype=object)"
      ]
     },
     "execution_count": 284,
     "metadata": {},
     "output_type": "execute_result"
    }
   ],
   "source": [
    "vector_X_euler"
   ]
  },
  {
   "cell_type": "markdown",
   "metadata": {},
   "source": [
    "### Grafiquemos"
   ]
  },
  {
   "cell_type": "markdown",
   "metadata": {},
   "source": [
    "## Metodo de Runge-Kutta (Euler de cuarto orden)"
   ]
  },
  {
   "cell_type": "markdown",
   "metadata": {},
   "source": [
    "$x_{k+1} = x_{k} + (\\frac{m_{k} + 2n_{k} + 2p_{k} + q_{k}}{6})\\Delta t $"
   ]
  },
  {
   "cell_type": "markdown",
   "metadata": {},
   "source": [
    "Definamos $m_{k} , n_{k} , p_{k} , q_{k}$"
   ]
  },
  {
   "cell_type": "markdown",
   "metadata": {},
   "source": [
    "$m_{k} = f(t_{k},x_{k})$"
   ]
  },
  {
   "cell_type": "markdown",
   "metadata": {},
   "source": [
    "$n_{k} = f(t_{k} + \\frac{\\Delta t}{2}, y_{k} )$  donde  $y_{k} = x_{k} + m_{k} \\frac{\\Delta t}{2}$"
   ]
  },
  {
   "cell_type": "markdown",
   "metadata": {},
   "source": [
    "$p_{k} = f(t_{k} + \\frac{\\Delta t}{2}, z_{k} )$  donde  $z_{k} = x_{k} + n_{k}\\frac{\\Delta t}{2}$"
   ]
  },
  {
   "cell_type": "markdown",
   "metadata": {},
   "source": [
    "$q_{k} = f(t_{k+1}, w_{k})$  donde  $w_{k} = x_{k} + p_{k}\\Delta t$"
   ]
  },
  {
   "cell_type": "code",
   "execution_count": 285,
   "metadata": {},
   "outputs": [],
   "source": [
    "# Creamos dos listas con un solo elemento que son nuestros valores iniciales\n",
    "vector_T_rk = np.array([paso_inicial_T])\n",
    "vector_X_rk = np.array([paso_inicial_X]) \n",
    "        \n",
    "# Iteramos para crear los vectores para realizar la graficación\n",
    "for iteracion in range(numero_iteraciones):\n",
    "    dic_eval_rk_m = {\n",
    "        t: vector_T_rk[iteracion],\n",
    "        x: vector_X_rk[iteracion]\n",
    "    }\n",
    "    m_i = func_f.subs(dic_eval_rk_m).evalf()\n",
    "\n",
    "    dic_eval_rk_n = {\n",
    "        t: vector_T_rk[iteracion] + (delta_T/2),\n",
    "        x: vector_X_rk[iteracion] + m_i * (delta_T/2)\n",
    "    }\n",
    "    n_i = func_f.subs(dic_eval_rk_n).evalf()\n",
    "    \n",
    "    dic_eval_rk_p = {\n",
    "        t: vector_T_rk[iteracion] + (delta_T/2),\n",
    "        x: vector_X_rk[iteracion] + n_i * (delta_T/2)\n",
    "    }\n",
    "    p_i = func_f.subs(dic_eval_rk_p).evalf()\n",
    "\n",
    "    t_i = vector_T_rk[iteracion] + delta_T\n",
    "    vector_T_rk = np.append(vector_T_rk, t_i)\n",
    "\n",
    "    dic_eval_rk_q = {\n",
    "        t: vector_T_rk[iteracion + 1] + (delta_T/2),\n",
    "        x: vector_X_rk[iteracion] + p_i * (delta_T)\n",
    "    }\n",
    "    q_i = func_f.subs(dic_eval_rk_q).evalf()\n",
    "\n",
    "    x_i = vector_X_rk[iteracion] + (delta_T/6) * (m_i + 2 * n_i + 2 * p_i + q_i)\n",
    "\n",
    "    # Almacenamos cada una de las iteraciones en los diferentes vectores\n",
    "    vector_X_rk = np.append(vector_X_rk, x_i)"
   ]
  },
  {
   "cell_type": "markdown",
   "metadata": {},
   "source": [
    "### Si requiere ver los vectores resultantes basta expandir y correr las siguientes celdas"
   ]
  },
  {
   "cell_type": "code",
   "execution_count": 286,
   "metadata": {},
   "outputs": [
    {
     "data": {
      "text/plain": [
       "array([0.113897828780627, 0.115979432785699, 0.121740772254191,\n",
       "       0.138175926776766, 0.188846411188297, 0.376572351653783,\n",
       "       1.37618015725598, 8.62574543923822, 23.0206823180488], dtype=object)"
      ]
     },
     "execution_count": 286,
     "metadata": {},
     "output_type": "execute_result"
    }
   ],
   "source": [
    "vector_X_euler"
   ]
  },
  {
   "cell_type": "code",
   "execution_count": 287,
   "metadata": {},
   "outputs": [
    {
     "data": {
      "text/plain": [
       "array([0.113897828780627, 0.118162670997455, 0.130562604648559,\n",
       "       0.171065010042610, 0.352595050468879, 1.81154448805418,\n",
       "       3.41659350105543, 14.1742144917706, 7.83827846145688], dtype=object)"
      ]
     },
     "execution_count": 287,
     "metadata": {},
     "output_type": "execute_result"
    }
   ],
   "source": [
    "vector_X_rk"
   ]
  },
  {
   "cell_type": "code",
   "execution_count": 291,
   "metadata": {},
   "outputs": [
    {
     "data": {
      "text/plain": [
       "81"
      ]
     },
     "execution_count": 291,
     "metadata": {},
     "output_type": "execute_result"
    }
   ],
   "source": [
    "len(vector_f_solucion)"
   ]
  },
  {
   "cell_type": "markdown",
   "metadata": {},
   "source": [
    "### Grafica trajando"
   ]
  },
  {
   "cell_type": "code",
   "execution_count": 289,
   "metadata": {},
   "outputs": [
    {
     "data": {
      "image/png": "[encoded data removed]",
      "text/plain": [
       "<Figure size 800x600 with 1 Axes>"
      ]
     },
     "metadata": {},
     "output_type": "display_data"
    }
   ],
   "source": [
    "plt.figure(figsize=(8, 6))\n",
    "plt.text(-0.54, 1.15, 'x(t)', rotation='horizontal', fontsize=12)  # Colocar 'x(t)' verticalmente\n",
    "plt.xticks(np.arange(-4, 5, 1))  # Marcas cada unidad en el eje x\n",
    "plt.yticks(np.arange(-30, 15, 5))  # Marcas cada unidad en el eje y\n",
    "plt.grid(True, linewidth=0.3)  # Ajusta el ancho de las líneas de la cuadrícula\n",
    "plt.axhline(0, color='black', linewidth=0.8)  # Línea horizontal en y=0\n",
    "plt.axvline(0, color='black', linewidth=0.8)  # Línea vertical en x=0\n",
    "plt.xlabel('$t$')\n",
    "plt.plot(\n",
    "    vector_T_euler,\n",
    "    vector_X_euler,\n",
    "    label=\"Método Euler\",\n",
    "    color='darkgreen',\n",
    "    linestyle='-.',\n",
    "    linewidth=0.9,\n",
    "    markersize=12, \n",
    ")\n",
    "plt.plot(\n",
    "    vector_T_rk,\n",
    "    vector_X_rk,\n",
    "    label=\"Método Runge-Kutta\",\n",
    "    color='darkred',\n",
    "    linestyle='-.',\n",
    "    alpha = 0.6,\n",
    "    linewidth=1.1,\n",
    "    markersize=12, \n",
    ")\n",
    "plt.plot(\n",
    "    vector_T_funcion_real,\n",
    "    vector_f_solucion,\n",
    "    label=\"Solución analítica\",\n",
    "    color='navy',\n",
    "    linestyle='-',\n",
    "    alpha = 0.4,\n",
    "    linewidth=0.9,\n",
    "    markersize=12, \n",
    ")\n",
    "plt.legend()  # Esto coloca la leyenda en la esquina superior izquierda\n",
    "plt.title(\"Comparación métodos de Euler y Runge Kutta $\\Delta t = 0.2$\")\n",
    "#plt.savefig(\"Comparación métodos de Euler y Runge Kutta $\\Delta t = 0.2$.pdf\")  # Con esta se guarda la imagen en formato pdf\n",
    "plt.show()"
   ]
  },
  {
   "cell_type": "markdown",
   "metadata": {},
   "source": [
    "### Grafica inicial"
   ]
  },
  {
   "cell_type": "code",
   "execution_count": 290,
   "metadata": {},
   "outputs": [
    {
     "data": {
      "image/png": "[encoded data removed]",
      "text/plain": [
       "<Figure size 800x600 with 1 Axes>"
      ]
     },
     "metadata": {},
     "output_type": "display_data"
    }
   ],
   "source": [
    "plt.figure(figsize=(8, 6))\n",
    "plt.text(-0.54, 1.15, 'x(t)', rotation='horizontal', fontsize=12)  # Colocar 'x(t)' verticalmente\n",
    "plt.xticks(np.arange(-4, 5, 1))  # Marcas cada unidad en el eje x\n",
    "plt.yticks(np.arange(-30, 15, 5))  # Marcas cada unidad en el eje y\n",
    "plt.grid(True, linewidth=0.3)  # Ajusta el ancho de las líneas de la cuadrícula\n",
    "plt.axhline(0, color='black', linewidth=0.8)  # Línea horizontal en y=0\n",
    "plt.axvline(0, color='black', linewidth=0.8)  # Línea vertical en x=0\n",
    "plt.xlabel('$t$')\n",
    "plt.plot(\n",
    "    vector_T_euler,\n",
    "    vector_X_euler,\n",
    "    label=\"Método Euler\",\n",
    "    color='darkgreen',\n",
    "    linestyle='-.',\n",
    "    linewidth=0.9,\n",
    "    markersize=12, \n",
    ")\n",
    "plt.plot(\n",
    "    vector_T_rk,\n",
    "    vector_X_rk,\n",
    "    label=\"Método Runge-Kutta\",\n",
    "    color='darkred',\n",
    "    linestyle='-.',\n",
    "    alpha = 0.6,\n",
    "    linewidth=1.1,\n",
    "    markersize=12, \n",
    ")\n",
    "plt.plot(\n",
    "    vector_T_funcion_real,\n",
    "    vector_f_solucion,\n",
    "    label=\"Solución analítica\",\n",
    "    color='navy',\n",
    "    linestyle='-',\n",
    "    alpha = 0.4,\n",
    "    linewidth=0.9,\n",
    "    markersize=12, \n",
    ")\n",
    "plt.legend()  # Esto coloca la leyenda en la esquina superior izquierda\n",
    "plt.title(\"Comparación métodos de Euler y Runge Kutta $\\Delta t = 0.2$\")\n",
    "#plt.savefig(\"Comparación métodos de Euler y Runge Kutta $\\Delta t = 0.2$.pdf\")  # Con esta se guarda la imagen en formato pdf\n",
    "plt.show()"
   ]
  }
 ],
 "metadata": {
  "kernelspec": {
   "display_name": "Python 3",
   "language": "python",
   "name": "python3"
  },
  "language_info": {
   "codemirror_mode": {
    "name": "ipython",
    "version": 3
   },
   "file_extension": ".py",
   "mimetype": "text/x-python",
   "name": "python",
   "nbconvert_exporter": "python",
   "pygments_lexer": "ipython3",
   "version": "3.10.12"
  }
 },
 "nbformat": 4,
 "nbformat_minor": 2
}
