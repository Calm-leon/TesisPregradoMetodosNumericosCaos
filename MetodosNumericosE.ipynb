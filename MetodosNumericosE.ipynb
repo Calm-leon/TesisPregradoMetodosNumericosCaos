{
 "cells": [
  {
   "cell_type": "markdown",
   "metadata": {},
   "source": [
    "### Importaciones"
   ]
  },
  {
   "cell_type": "code",
   "execution_count": 1,
   "metadata": {},
   "outputs": [],
   "source": [
    "import numpy as np\n",
    "import matplotlib.pyplot as plt\n",
    "import sympy as sp\n",
    "from sympy import symbols, Function, dsolve, exp, sin, pi"
   ]
  },
  {
   "cell_type": "markdown",
   "metadata": {},
   "source": [
    "### Definicion de la funcion"
   ]
  },
  {
   "cell_type": "markdown",
   "metadata": {},
   "source": [
    "Nuestra funcion por defecto es $f(t,x) = x$  \n",
    "( Más adelante veremos que podemos cambiar la función si se requiere)"
   ]
  },
  {
   "cell_type": "code",
   "execution_count": 2,
   "metadata": {},
   "outputs": [],
   "source": [
    "def funcion_f(ecuacion:str=\"x\"):\n",
    "    function = sp.sympify(ecuacion)\n",
    "    return function"
   ]
  },
  {
   "cell_type": "markdown",
   "metadata": {},
   "source": [
    "*Digite el numero de iteraciones deseadas:*"
   ]
  },
  {
   "cell_type": "code",
   "execution_count": 3,
   "metadata": {},
   "outputs": [],
   "source": [
    "numero_iteraciones = 10"
   ]
  },
  {
   "cell_type": "markdown",
   "metadata": {},
   "source": [
    "*Digite el valor inicial en t:*"
   ]
  },
  {
   "cell_type": "code",
   "execution_count": 4,
   "metadata": {},
   "outputs": [],
   "source": [
    "paso_inicial_T = 0"
   ]
  },
  {
   "cell_type": "markdown",
   "metadata": {},
   "source": [
    "*Digite el valor final en t:*"
   ]
  },
  {
   "cell_type": "code",
   "execution_count": 5,
   "metadata": {},
   "outputs": [],
   "source": [
    "paso_final_T = 10"
   ]
  },
  {
   "cell_type": "markdown",
   "metadata": {},
   "source": [
    "*Digite la condicion inicial de $x(t)$:*"
   ]
  },
  {
   "cell_type": "code",
   "execution_count": 6,
   "metadata": {},
   "outputs": [],
   "source": [
    "paso_inicial_X = 1"
   ]
  },
  {
   "cell_type": "markdown",
   "metadata": {},
   "source": [
    "*A continuación calcularemos el $\\Delta t$*"
   ]
  },
  {
   "cell_type": "code",
   "execution_count": 7,
   "metadata": {},
   "outputs": [
    {
     "data": {
      "text/plain": [
       "1.0"
      ]
     },
     "execution_count": 7,
     "metadata": {},
     "output_type": "execute_result"
    }
   ],
   "source": [
    "delta_T = (paso_final_T - paso_inicial_T)/numero_iteraciones\n",
    "delta_T"
   ]
  },
  {
   "cell_type": "markdown",
   "metadata": {},
   "source": [
    "### Iniciemos con la solucion exacta"
   ]
  },
  {
   "cell_type": "code",
   "execution_count": 8,
   "metadata": {},
   "outputs": [
    {
     "data": {
      "text/latex": [
       "$\\displaystyle x{\\left(t \\right)} = e^{t}$"
      ],
      "text/plain": [
       "Eq(x(t), exp(t))"
      ]
     },
     "execution_count": 8,
     "metadata": {},
     "output_type": "execute_result"
    }
   ],
   "source": [
    "# Definir la variable independiente \n",
    "t = symbols('t')\n",
    "\n",
    "# Esta es una funcion que depende de t\n",
    "x = Function('x')(t)\n",
    "\n",
    "#funcion_m = sin(t)\n",
    "#funcion_m = (2*t*(1+x**2))\n",
    "funcion_m = x\n",
    "# Definir la ecuación diferencial (Homogenea)\n",
    "edo = x.diff(t) - funcion_m\n",
    "# Resolver la ecuación diferencial y darle su valor inicial\n",
    "\n",
    "solucion = dsolve(edo, x, ics={x.subs(t, 0): paso_inicial_X})\n",
    "solucion"
   ]
  },
  {
   "cell_type": "code",
   "execution_count": 9,
   "metadata": {},
   "outputs": [],
   "source": [
    "# Creamos una lista con un solo elemento de nuestro valore inicial de t\n",
    "vector_T_funcion_real = np.array([paso_inicial_T])\n",
    "        \n",
    "# Iteramos para crear el vector para realizar la graficación de la funcion exacta\n",
    "for iteracion in range(numero_iteraciones*10):\n",
    "    t_i = (vector_T_funcion_real[iteracion] + delta_T/ 10) \n",
    "    vector_T_funcion_real = np.append(vector_T_funcion_real, t_i)\n",
    "\n",
    "# Evaluamos la función en cada valor de tiempo y almacenamos los resultados en una lista\n",
    "vector_f_solucion = [solucion.rhs.subs({t: valor}) for valor in list(vector_T_funcion_real)]"
   ]
  },
  {
   "cell_type": "markdown",
   "metadata": {},
   "source": [
    "### Definición de las variables simbolicas"
   ]
  },
  {
   "cell_type": "code",
   "execution_count": 10,
   "metadata": {},
   "outputs": [],
   "source": [
    "t, x = sp.symbols('t x')"
   ]
  },
  {
   "cell_type": "markdown",
   "metadata": {},
   "source": [
    "### Si requerimos cambiar la funcion, aqui la definimos:"
   ]
  },
  {
   "cell_type": "code",
   "execution_count": 11,
   "metadata": {},
   "outputs": [],
   "source": [
    "#fun = \"(2*t*(1+x**2))\"\n",
    "fun =  \"x\"\n",
    "#fun = \"sin(t)\""
   ]
  },
  {
   "cell_type": "markdown",
   "metadata": {},
   "source": [
    "Creamos la funcion programatica $f$  \n",
    "Como parametro tenemos la funcion que creamos, si no le pasamos este parametro usa nuestra funcion por defecto"
   ]
  },
  {
   "cell_type": "code",
   "execution_count": 12,
   "metadata": {},
   "outputs": [
    {
     "data": {
      "text/latex": [
       "$\\displaystyle x$"
      ],
      "text/plain": [
       "x"
      ]
     },
     "execution_count": 12,
     "metadata": {},
     "output_type": "execute_result"
    }
   ],
   "source": [
    "func_f = funcion_f(fun)\n",
    "func_f"
   ]
  },
  {
   "cell_type": "markdown",
   "metadata": {},
   "source": [
    "## Metodo de Euler"
   ]
  },
  {
   "cell_type": "markdown",
   "metadata": {},
   "source": [
    "$x_{k+1} = x_{k} + f(t_{k},x_{k})\\Delta t$"
   ]
  },
  {
   "cell_type": "code",
   "execution_count": 13,
   "metadata": {},
   "outputs": [],
   "source": [
    "# Creamos dos listas con un solo elemento que son nuestros valores iniciales\n",
    "vector_T_euler_pequeño = np.array([paso_inicial_T])\n",
    "vector_X_euler_pequeño = np.array([paso_inicial_X]) \n",
    "        \n",
    "# Iteramos para crear los vectores para realizar la graficación\n",
    "for iteracion in range(numero_iteraciones*10):\n",
    "    dic_evaluar = {\n",
    "        t: vector_T_euler_pequeño[iteracion],\n",
    "        x: vector_X_euler_pequeño[iteracion]\n",
    "    }\n",
    "    t_i = vector_T_euler_pequeño[iteracion] + delta_T/10\n",
    "    x_i = vector_X_euler_pequeño[iteracion] + func_f.subs(dic_evaluar) * delta_T/10\n",
    "\n",
    "    # Almacenamos cada una de las iteraciones en los diferentes vectores\n",
    "    vector_T_euler_pequeño = np.append(vector_T_euler_pequeño, t_i)\n",
    "    vector_X_euler_pequeño = np.append(vector_X_euler_pequeño, x_i)"
   ]
  },
  {
   "cell_type": "code",
   "execution_count": 14,
   "metadata": {},
   "outputs": [],
   "source": [
    "# Creamos dos listas con un solo elemento que son nuestros valores iniciales\n",
    "vector_T_euler = np.array([paso_inicial_T])\n",
    "vector_X_euler = np.array([paso_inicial_X]) \n",
    "        \n",
    "# Iteramos para crear los vectores para realizar la graficación\n",
    "for iteracion in range(numero_iteraciones):\n",
    "    dic_evaluar = {\n",
    "        t: vector_T_euler[iteracion],\n",
    "        x: vector_X_euler[iteracion]\n",
    "    }\n",
    "    t_i = vector_T_euler[iteracion] + delta_T\n",
    "    x_i = vector_X_euler[iteracion] + func_f.subs(dic_evaluar) * delta_T\n",
    "\n",
    "    # Almacenamos cada una de las iteraciones en los diferentes vectores\n",
    "    vector_T_euler = np.append(vector_T_euler, t_i)\n",
    "    vector_X_euler = np.append(vector_X_euler, x_i)"
   ]
  },
  {
   "cell_type": "markdown",
   "metadata": {},
   "source": [
    "### Si requiere ver los vectores resultantes basta expandir y correr las siguientes celdas"
   ]
  },
  {
   "cell_type": "code",
   "execution_count": 15,
   "metadata": {},
   "outputs": [
    {
     "data": {
      "text/plain": [
       "101"
      ]
     },
     "execution_count": 15,
     "metadata": {},
     "output_type": "execute_result"
    }
   ],
   "source": [
    "len(vector_T_funcion_real)"
   ]
  },
  {
   "cell_type": "code",
   "execution_count": 16,
   "metadata": {},
   "outputs": [
    {
     "data": {
      "text/latex": [
       "$\\displaystyle 445.857770082514$"
      ],
      "text/plain": [
       "445.857770082514"
      ]
     },
     "execution_count": 16,
     "metadata": {},
     "output_type": "execute_result"
    }
   ],
   "source": [
    "vector_f_solucion[61]"
   ]
  },
  {
   "cell_type": "code",
   "execution_count": 17,
   "metadata": {},
   "outputs": [
    {
     "data": {
      "text/plain": [
       "array([ 0. ,  0.1,  0.2,  0.3,  0.4,  0.5,  0.6,  0.7,  0.8,  0.9,  1. ,\n",
       "        1.1,  1.2,  1.3,  1.4,  1.5,  1.6,  1.7,  1.8,  1.9,  2. ,  2.1,\n",
       "        2.2,  2.3,  2.4,  2.5,  2.6,  2.7,  2.8,  2.9,  3. ,  3.1,  3.2,\n",
       "        3.3,  3.4,  3.5,  3.6,  3.7,  3.8,  3.9,  4. ,  4.1,  4.2,  4.3,\n",
       "        4.4,  4.5,  4.6,  4.7,  4.8,  4.9,  5. ,  5.1,  5.2,  5.3,  5.4,\n",
       "        5.5,  5.6,  5.7,  5.8,  5.9,  6. ,  6.1,  6.2,  6.3,  6.4,  6.5,\n",
       "        6.6,  6.7,  6.8,  6.9,  7. ,  7.1,  7.2,  7.3,  7.4,  7.5,  7.6,\n",
       "        7.7,  7.8,  7.9,  8. ,  8.1,  8.2,  8.3,  8.4,  8.5,  8.6,  8.7,\n",
       "        8.8,  8.9,  9. ,  9.1,  9.2,  9.3,  9.4,  9.5,  9.6,  9.7,  9.8,\n",
       "        9.9, 10. ])"
      ]
     },
     "execution_count": 17,
     "metadata": {},
     "output_type": "execute_result"
    }
   ],
   "source": [
    "vector_T_euler_pequeño"
   ]
  },
  {
   "cell_type": "code",
   "execution_count": 18,
   "metadata": {},
   "outputs": [
    {
     "data": {
      "text/plain": [
       "array([1, 1.10000000000000, 1.21000000000000, 1.33100000000000,\n",
       "       1.46410000000000, 1.61051000000000, 1.77156100000000,\n",
       "       1.94871710000000, 2.14358881000000, 2.35794769100000,\n",
       "       2.59374246010000, 2.85311670611000, 3.13842837672100,\n",
       "       3.45227121439310, 3.79749833583241, 4.17724816941565,\n",
       "       4.59497298635722, 5.05447028499294, 5.55991731349223,\n",
       "       6.11590904484146, 6.72749994932560, 7.40024994425816,\n",
       "       8.14027493868398, 8.95430243255237, 9.84973267580761,\n",
       "       10.8347059433884, 11.9181765377272, 13.1099941914999,\n",
       "       14.4209936106499, 15.8630929717149, 17.4494022688864,\n",
       "       19.1943424957751, 21.1137767453526, 23.2251544198878,\n",
       "       25.5476698618766, 28.1024368480643, 30.9126805328707,\n",
       "       34.0039485861577, 37.4043434447735, 41.1447777892509,\n",
       "       45.2592555681760, 49.7851811249936, 54.7636992374929,\n",
       "       60.2400691612422, 66.2640760773664, 72.8904836851031,\n",
       "       80.1795320536134, 88.1974852589747, 97.0172337848722,\n",
       "       106.718957163359, 117.390852879695, 129.129938167665,\n",
       "       142.042931984431, 156.247225182875, 171.871947701162,\n",
       "       189.059142471278, 207.965056718406, 228.761562390247,\n",
       "       251.637718629271, 276.801490492198, 304.481639541418,\n",
       "       334.929803495560, 368.422783845116, 405.265062229628,\n",
       "       445.791568452590, 490.370725297849, 539.407797827634,\n",
       "       593.348577610398, 652.683435371438, 717.951778908581,\n",
       "       789.746956799439, 868.721652479383, 955.593817727322,\n",
       "       1051.15319950005, 1156.26851945006, 1271.89537139507,\n",
       "       1399.08490853457, 1538.99339938803, 1692.89273932683,\n",
       "       1862.18201325952, 2048.40021458547, 2253.24023604401,\n",
       "       2478.56425964841, 2726.42068561326, 2999.06275417458,\n",
       "       3298.96902959204, 3628.86593255124, 3991.75252580637,\n",
       "       4390.92777838700, 4830.02055622571, 5313.02261184828,\n",
       "       5844.32487303310, 6428.75736033641, 7071.63309637005,\n",
       "       7778.79640600706, 8556.67604660777, 9412.34365126854,\n",
       "       10353.5780163954, 11388.9358180349, 12527.8293998384,\n",
       "       13780.6123398223], dtype=object)"
      ]
     },
     "execution_count": 18,
     "metadata": {},
     "output_type": "execute_result"
    }
   ],
   "source": [
    "vector_X_euler_pequeño"
   ]
  },
  {
   "cell_type": "code",
   "execution_count": 19,
   "metadata": {},
   "outputs": [
    {
     "data": {
      "text/plain": [
       "array([ 0.,  1.,  2.,  3.,  4.,  5.,  6.,  7.,  8.,  9., 10.])"
      ]
     },
     "execution_count": 19,
     "metadata": {},
     "output_type": "execute_result"
    }
   ],
   "source": [
    "vector_T_euler"
   ]
  },
  {
   "cell_type": "code",
   "execution_count": 20,
   "metadata": {},
   "outputs": [
    {
     "data": {
      "text/plain": [
       "array([1, 2.00000000000000, 4.00000000000000, 8.00000000000000,\n",
       "       16.0000000000000, 32.0000000000000, 64.0000000000000,\n",
       "       128.000000000000, 256.000000000000, 512.000000000000,\n",
       "       1024.00000000000], dtype=object)"
      ]
     },
     "execution_count": 20,
     "metadata": {},
     "output_type": "execute_result"
    }
   ],
   "source": [
    "vector_X_euler"
   ]
  },
  {
   "cell_type": "markdown",
   "metadata": {},
   "source": [
    "### Grafiquemos"
   ]
  },
  {
   "cell_type": "code",
   "execution_count": 23,
   "metadata": {},
   "outputs": [
    {
     "data": {
      "image/png": "[encoded data removed]",
      "text/plain": [
       "<Figure size 800x600 with 1 Axes>"
      ]
     },
     "metadata": {},
     "output_type": "display_data"
    }
   ],
   "source": [
    "plt.figure(figsize=(8, 6))\n",
    "plt.text(2.5, 70, 'x(t)', rotation='horizontal', fontsize=12)  # Colocar 'x(t)' verticalmente\n",
    "plt.xticks(np.arange(2, 6, 0.5))  # Marcas cada unidad en el eje x\n",
    "plt.yticks(np.arange(0, 200, 10))  # Marcas cada unidad en el eje y\n",
    "plt.grid(True, linewidth=0.3)  # Ajusta el ancho de las líneas de la cuadrícula\n",
    "plt.axhline(0, color='black', linewidth=0.8)  # Línea horizontal en y=0\n",
    "plt.axvline(2.85, color='black', linewidth=0.8)  # Línea vertical en x=0\n",
    "plt.xlabel('$t$')\n",
    "plt.plot(\n",
    "    vector_T_euler[3:6],\n",
    "    vector_X_euler[3:6],\n",
    "    label=\"$\\Delta t = 1$\",\n",
    "    color='red',\n",
    "    linestyle='-.',\n",
    "    linewidth=1.1,\n",
    "    markersize=12, \n",
    ")\n",
    "plt.plot(\n",
    "    vector_T_euler_pequeño[30:51],\n",
    "    vector_X_euler_pequeño[30:51],\n",
    "    label=\"$\\Delta t = 0.01$\",\n",
    "    color='black',\n",
    "    linestyle='-.',\n",
    "    linewidth=1.1,\n",
    "    markersize=12, \n",
    ")\n",
    "plt.plot(\n",
    "    vector_T_funcion_real[30:51],\n",
    "    vector_f_solucion[30:51],\n",
    "    label=\"Solución analítica\",\n",
    "    color='navy',\n",
    "    linestyle='solid',\n",
    "    linewidth=0.9,\n",
    "    markersize=12, \n",
    ")\n",
    "plt.legend(loc='upper left')  # Esto coloca la leyenda en la esquina superior izquierda\n",
    "plt.title(r\"Función $e^t$ y sus aproximaciones\")\n",
    "plt.savefig(\"Función $e^t$ y sus aproximaciones.pdf\")  # Con esta se guarda la imagen en formato pdf\n",
    "plt.show()"
   ]
  }
 ],
 "metadata": {
  "kernelspec": {
   "display_name": "Python 3",
   "language": "python",
   "name": "python3"
  },
  "language_info": {
   "codemirror_mode": {
    "name": "ipython",
    "version": 3
   },
   "file_extension": ".py",
   "mimetype": "text/x-python",
   "name": "python",
   "nbconvert_exporter": "python",
   "pygments_lexer": "ipython3",
   "version": "3.10.12"
  }
 },
 "nbformat": 4,
 "nbformat_minor": 2
}
