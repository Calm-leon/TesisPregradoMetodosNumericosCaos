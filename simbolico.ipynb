{
 "cells": [
  {
   "cell_type": "code",
   "execution_count": 2,
   "metadata": {},
   "outputs": [],
   "source": [
    "import numpy as np\n",
    "import matplotlib.pyplot as plt\n",
    "import sympy as sp\n",
    "from sympy import symbols, Function, dsolve, exp, sin"
   ]
  },
  {
   "cell_type": "code",
   "execution_count": 3,
   "metadata": {},
   "outputs": [],
   "source": [
    "x, y = sp.symbols('x y')\n"
   ]
  },
  {
   "cell_type": "code",
   "execution_count": 4,
   "metadata": {},
   "outputs": [
    {
     "data": {
      "text/latex": [
       "$\\displaystyle x^{3} + 2 y$"
      ],
      "text/plain": [
       "x**3 + 2*y"
      ]
     },
     "execution_count": 4,
     "metadata": {},
     "output_type": "execute_result"
    }
   ],
   "source": [
    "expr = x**3 + 2*y\n",
    "expr"
   ]
  },
  {
   "cell_type": "markdown",
   "metadata": {},
   "source": [
    "La expresion es la siguiente:"
   ]
  },
  {
   "cell_type": "code",
   "execution_count": 5,
   "metadata": {},
   "outputs": [
    {
     "data": {
      "text/latex": [
       "$\\displaystyle x^{3} + 2 y$"
      ],
      "text/plain": [
       "x**3 + 2*y"
      ]
     },
     "execution_count": 5,
     "metadata": {},
     "output_type": "execute_result"
    }
   ],
   "source": [
    "expr"
   ]
  },
  {
   "cell_type": "markdown",
   "metadata": {},
   "source": [
    "Construyamos otra expresion "
   ]
  },
  {
   "cell_type": "code",
   "execution_count": 6,
   "metadata": {},
   "outputs": [],
   "source": [
    "funcion_f =  x**2 + 2*y"
   ]
  },
  {
   "cell_type": "markdown",
   "metadata": {},
   "source": [
    "La expresion anterior es la siguiente:"
   ]
  },
  {
   "cell_type": "code",
   "execution_count": 7,
   "metadata": {},
   "outputs": [
    {
     "data": {
      "text/latex": [
       "$\\displaystyle x^{2} + 2 y$"
      ],
      "text/plain": [
       "x**2 + 2*y"
      ]
     },
     "execution_count": 7,
     "metadata": {},
     "output_type": "execute_result"
    }
   ],
   "source": [
    "funcion_f"
   ]
  },
  {
   "cell_type": "markdown",
   "metadata": {},
   "source": [
    "evaluemos un valor de x y y y miremos el resultado\n",
    "acontinuacion los valores a utilizar"
   ]
  },
  {
   "cell_type": "code",
   "execution_count": 8,
   "metadata": {},
   "outputs": [],
   "source": [
    "valor_x = 2\n",
    "valor_y = 3\n"
   ]
  },
  {
   "cell_type": "markdown",
   "metadata": {},
   "source": [
    "creacion del diccionario para almacenar los valores que debe pasarse a subs"
   ]
  },
  {
   "cell_type": "code",
   "execution_count": 9,
   "metadata": {},
   "outputs": [],
   "source": [
    "dic_variable_valor ={x : valor_x, y : valor_y}"
   ]
  },
  {
   "cell_type": "code",
   "execution_count": 10,
   "metadata": {},
   "outputs": [],
   "source": [
    "solucion = funcion_f.subs(dic_variable_valor)"
   ]
  },
  {
   "cell_type": "code",
   "execution_count": 11,
   "metadata": {},
   "outputs": [
    {
     "data": {
      "text/latex": [
       "$\\displaystyle 10$"
      ],
      "text/plain": [
       "10"
      ]
     },
     "execution_count": 11,
     "metadata": {},
     "output_type": "execute_result"
    }
   ],
   "source": [
    "solucion"
   ]
  },
  {
   "cell_type": "code",
   "execution_count": 12,
   "metadata": {},
   "outputs": [
    {
     "name": "stdout",
     "output_type": "stream",
     "text": [
      "Resultado de la expresión con x = 2, e y = 3, es 10\n"
     ]
    }
   ],
   "source": [
    "print(f\"Resultado de la expresión con x = {valor_x}, e y = {valor_y}, es {solucion}\")"
   ]
  },
  {
   "cell_type": "markdown",
   "metadata": {},
   "source": [
    "# Simplificacion de ecuciones"
   ]
  },
  {
   "cell_type": "markdown",
   "metadata": {},
   "source": [
    "Cremos una funcion que pueda simplificarse"
   ]
  },
  {
   "cell_type": "code",
   "execution_count": 13,
   "metadata": {},
   "outputs": [
    {
     "data": {
      "text/latex": [
       "$\\displaystyle x^{3} + x^{2}$"
      ],
      "text/plain": [
       "x**3 + x**2"
      ]
     },
     "execution_count": 13,
     "metadata": {},
     "output_type": "execute_result"
    }
   ],
   "source": [
    "fun_g_simplificar = x**3 + x**2\n",
    "fun_g_simplificar"
   ]
  },
  {
   "cell_type": "markdown",
   "metadata": {},
   "source": [
    "simplifiquemos la ecuacion"
   ]
  },
  {
   "cell_type": "code",
   "execution_count": 14,
   "metadata": {},
   "outputs": [
    {
     "data": {
      "text/latex": [
       "$\\displaystyle x^{2} \\left(x + 1\\right)$"
      ],
      "text/plain": [
       "x**2*(x + 1)"
      ]
     },
     "execution_count": 14,
     "metadata": {},
     "output_type": "execute_result"
    }
   ],
   "source": [
    "g_simplificada = sp.simplify(fun_g_simplificar)\n",
    "g_simplificada"
   ]
  },
  {
   "cell_type": "markdown",
   "metadata": {},
   "source": [
    "# Resolucion de ecuaciones"
   ]
  },
  {
   "cell_type": "markdown",
   "metadata": {},
   "source": [
    "antes de definir la ecuacion podemos definir la funcion y su valor a solucionar"
   ]
  },
  {
   "cell_type": "code",
   "execution_count": 15,
   "metadata": {},
   "outputs": [
    {
     "data": {
      "text/plain": [
       "(x**2 - 4, 5)"
      ]
     },
     "execution_count": 15,
     "metadata": {},
     "output_type": "execute_result"
    }
   ],
   "source": [
    "fun_h = x**2 - 4\n",
    "valor_solucion = 5\n",
    "fun_h,valor_solucion"
   ]
  },
  {
   "cell_type": "markdown",
   "metadata": {},
   "source": [
    "Definamos la ecuacion a resolver,\n",
    "como primer argumento tomamos la funcion y como segundo argumento el valor de igualdad de la funcion"
   ]
  },
  {
   "cell_type": "code",
   "execution_count": 16,
   "metadata": {},
   "outputs": [
    {
     "data": {
      "text/latex": [
       "$\\displaystyle x^{2} - 4 = 5$"
      ],
      "text/plain": [
       "Eq(x**2 - 4, 5)"
      ]
     },
     "execution_count": 16,
     "metadata": {},
     "output_type": "execute_result"
    }
   ],
   "source": [
    "ecuacion_1 = sp.Eq(fun_h,valor_solucion)\n",
    "ecuacion_1"
   ]
  },
  {
   "cell_type": "markdown",
   "metadata": {},
   "source": [
    "ahora solucionemos la ecuacion;\n",
    "como primer argumento le damos la ecuacion, como segundo la variable sobre la que va a solucionar la ecuacion"
   ]
  },
  {
   "cell_type": "code",
   "execution_count": 17,
   "metadata": {},
   "outputs": [
    {
     "data": {
      "text/plain": [
       "[-3, 3]"
      ]
     },
     "execution_count": 17,
     "metadata": {},
     "output_type": "execute_result"
    }
   ],
   "source": [
    "solucion_eq1 = sp.solve(ecuacion_1, x)\n",
    "solucion_eq1"
   ]
  },
  {
   "cell_type": "markdown",
   "metadata": {},
   "source": [
    "# Derivamos"
   ]
  },
  {
   "cell_type": "markdown",
   "metadata": {},
   "source": [
    "derivemos en x"
   ]
  },
  {
   "cell_type": "code",
   "execution_count": 18,
   "metadata": {},
   "outputs": [
    {
     "data": {
      "text/latex": [
       "$\\displaystyle 2 x$"
      ],
      "text/plain": [
       "2*x"
      ]
     },
     "execution_count": 18,
     "metadata": {},
     "output_type": "execute_result"
    }
   ],
   "source": [
    "derivada_en_x = sp.diff(funcion_f, x)\n",
    "derivada_en_x"
   ]
  },
  {
   "cell_type": "markdown",
   "metadata": {},
   "source": [
    "derivemos en y"
   ]
  },
  {
   "cell_type": "code",
   "execution_count": 19,
   "metadata": {},
   "outputs": [
    {
     "data": {
      "text/latex": [
       "$\\displaystyle 2$"
      ],
      "text/plain": [
       "2"
      ]
     },
     "execution_count": 19,
     "metadata": {},
     "output_type": "execute_result"
    }
   ],
   "source": [
    "derivada_en_y = sp.diff(funcion_f, y)\n",
    "derivada_en_y"
   ]
  },
  {
   "cell_type": "markdown",
   "metadata": {},
   "source": [
    "# Integramos"
   ]
  },
  {
   "cell_type": "code",
   "execution_count": 20,
   "metadata": {},
   "outputs": [
    {
     "data": {
      "text/latex": [
       "$\\displaystyle x^{3} + x^{2}$"
      ],
      "text/plain": [
       "x**3 + x**2"
      ]
     },
     "execution_count": 20,
     "metadata": {},
     "output_type": "execute_result"
    }
   ],
   "source": [
    "fun_g_simplificar"
   ]
  },
  {
   "cell_type": "code",
   "execution_count": 21,
   "metadata": {},
   "outputs": [
    {
     "data": {
      "text/latex": [
       "$\\displaystyle \\frac{x^{4}}{4} + \\frac{x^{3}}{3}$"
      ],
      "text/plain": [
       "x**4/4 + x**3/3"
      ]
     },
     "execution_count": 21,
     "metadata": {},
     "output_type": "execute_result"
    }
   ],
   "source": [
    "integral_en_x = sp.integrate(fun_g_simplificar, x)\n",
    "integral_en_x"
   ]
  },
  {
   "cell_type": "code",
   "execution_count": 22,
   "metadata": {},
   "outputs": [
    {
     "data": {
      "text/latex": [
       "$\\displaystyle y \\left(x^{3} + x^{2}\\right)$"
      ],
      "text/plain": [
       "y*(x**3 + x**2)"
      ]
     },
     "execution_count": 22,
     "metadata": {},
     "output_type": "execute_result"
    }
   ],
   "source": [
    "integral_en_y = sp.integrate(fun_g_simplificar, y)\n",
    "integral_en_y"
   ]
  },
  {
   "cell_type": "markdown",
   "metadata": {},
   "source": [
    "# pasos para definir la funcion necesaria"
   ]
  },
  {
   "cell_type": "code",
   "execution_count": 23,
   "metadata": {},
   "outputs": [
    {
     "data": {
      "text/latex": [
       "$\\displaystyle 5$"
      ],
      "text/plain": [
       "5"
      ]
     },
     "execution_count": 23,
     "metadata": {},
     "output_type": "execute_result"
    }
   ],
   "source": [
    "def funcion_f(ecuacion:str, valor:dict):\n",
    "    function = sp.sympify(ecuacion)\n",
    "    solution = function.subs(valor)\n",
    "    return solution\n",
    "\n",
    "eq = \"x\"\n",
    "\n",
    "x, y = sp.symbols('x y')\n",
    "\n",
    "dic_variable_valor = {\n",
    "    x: 5,\n",
    "    y: 7\n",
    "}\n",
    "\n",
    "funcion_f(eq, dic_variable_valor)"
   ]
  },
  {
   "cell_type": "code",
   "execution_count": 24,
   "metadata": {},
   "outputs": [],
   "source": [
    "# Definir la variable independiente \n",
    "t = symbols('t')\n",
    "\n",
    "# Esta es una funcion que depende de t\n",
    "x = Function('x')(t)"
   ]
  },
  {
   "cell_type": "markdown",
   "metadata": {},
   "source": [
    "$f(t,x(t)) = x(t)$"
   ]
  },
  {
   "cell_type": "code",
   "execution_count": 49,
   "metadata": {},
   "outputs": [
    {
     "data": {
      "text/latex": [
       "$\\displaystyle 0$"
      ],
      "text/plain": [
       "0"
      ]
     },
     "execution_count": 49,
     "metadata": {},
     "output_type": "execute_result"
    }
   ],
   "source": []
  },
  {
   "cell_type": "code",
   "execution_count": 47,
   "metadata": {},
   "outputs": [
    {
     "data": {
      "text/latex": [
       "$\\displaystyle - x{\\left(t \\right)} + \\frac{d}{d t} x{\\left(t \\right)}$"
      ],
      "text/plain": [
       "-x(t) + Derivative(x(t), t)"
      ]
     },
     "execution_count": 47,
     "metadata": {},
     "output_type": "execute_result"
    }
   ],
   "source": [
    "edo"
   ]
  },
  {
   "cell_type": "code",
   "execution_count": null,
   "metadata": {},
   "outputs": [],
   "source": [
    "import matplotlib.pyplot as plt\n",
    "\n",
    "# Supongamos que ya tienes tu gráfica creada, por ejemplo:\n",
    "plt.plot([1, 2, 3, 4], [1, 4, 9, 16])\n",
    "\n",
    "# Ajusta los detalles de tu gráfica si es necesario\n",
    "plt.title(\"Mi gráfica\")\n",
    "plt.xlabel(\"Eje X\")\n",
    "plt.ylabel(\"Eje Y\")\n",
    "\n",
    "# Guarda la gráfica como un archivo PDF\n",
    "plt.savefig(\"mi_grafica.pdf\")\n",
    "\n",
    "# Cierra la figura\n",
    "plt.close()"
   ]
  },
  {
   "cell_type": "markdown",
   "metadata": {},
   "source": [
    "### Grafica sugerida"
   ]
  },
  {
   "cell_type": "code",
   "execution_count": 11,
   "metadata": {},
   "outputs": [
    {
     "data": {
      "image/png": "[encoded data removed]",
      "text/plain": [
       "<Figure size 800x600 with 1 Axes>"
      ]
     },
     "metadata": {},
     "output_type": "display_data"
    }
   ],
   "source": [
    "import numpy as np\n",
    "import matplotlib.pyplot as plt\n",
    "\n",
    "def funcion(t):\n",
    "    return 2 * np.arctan(np.tan(3/20) * np.exp(np.exp(t) - 1))\n",
    "\n",
    "# Generar puntos para la gráfica\n",
    "t_values = np.linspace(-5, 5, 400)  # Reducir el rango de t\n",
    "funcion_values = funcion(t_values)\n",
    "\n",
    "# Graficar la función\n",
    "plt.figure(figsize=(8, 6))\n",
    "plt.plot(t_values, funcion_values, color='navy', label=r'Solución analitica: $e^{t} \\sin x$', linewidth=1.2)\n",
    "plt.title(r'Función: $2 \\cdot \\arctan \\left(\\tan \\left( \\frac{3}{20} \\right) e^{e^{t} - 1} \\right)$')\n",
    "plt.xlabel('t')\n",
    "plt.ylabel('')\n",
    "\n",
    "# Colocar 'x(t)' verticalmente\n",
    "plt.text(-6.8, 1.7, 'x(t)', rotation='horizontal', fontsize=12)\n",
    "\n",
    "# Ajustar el número de divisiones en el eje x y en el eje y\n",
    "plt.xticks(np.arange(-5, 6, 1))  # Marcas cada unidad en el eje x\n",
    "plt.yticks(np.arange(-0.5, 3, 0.5))  # Marcas cada unidad en el eje y\n",
    "\n",
    "# Ajustar el grid\n",
    "plt.grid(True, linewidth=0.3)  # Ajusta el ancho de las líneas de la cuadrícula\n",
    "\n",
    "# Ajustar el ancho de la línea del cero en el eje x y en el eje y\n",
    "plt.axhline(0, color='black', linewidth=0.8)  # Línea horizontal en y=0\n",
    "plt.axvline(0, color='black', linewidth=0.8)  # Línea vertical en x=0\n",
    "\n",
    "plt.legend()\n",
    "#plt.savefig(\"'Función: $2 \\cdot \\arctan \\left(\\tan \\left( \\frac{3}{20} \\right) e^{e^{t} - 1} \\right)$'.pdf\")\n",
    "plt.show()\n"
   ]
  },
  {
   "cell_type": "code",
   "execution_count": 2,
   "metadata": {},
   "outputs": [
    {
     "data": {
      "image/png": "[encoded data removed]",
      "text/plain": [
       "<Figure size 800x600 with 1 Axes>"
      ]
     },
     "metadata": {},
     "output_type": "display_data"
    }
   ],
   "source": [
    "import matplotlib.pyplot as plt\n",
    "\n",
    "def plot_custom(vector_t, vector_x, title, xlabel, ylabel, label=None, color='navy', linestyle='-', linewidth=0.9, markersize=12, savefig=None):\n",
    "    plt.figure(figsize=(8, 6))\n",
    "    plt.plot(vector_t, vector_x, label=label, color=color, linestyle=linestyle, linewidth=linewidth, markersize=markersize)\n",
    "    plt.title(title)\n",
    "    plt.xlabel(xlabel)\n",
    "    plt.ylabel(ylabel)\n",
    "    plt.grid(True)\n",
    "    plt.legend()\n",
    "    \n",
    "    if savefig:\n",
    "        plt.savefig(savefig)\n",
    "    \n",
    "    plt.show()\n",
    "\n",
    "import numpy as np\n",
    "import matplotlib.pyplot as plt\n",
    "\n",
    "def funcion(t):\n",
    "    return 2 * np.arctan(np.tan(3/20) * np.exp(np.exp(t) - 1))\n",
    "\n",
    "# Generar puntos para la gráfica\n",
    "t_values = np.linspace(-5, 5, 400)  # Reducir el rango de t\n",
    "funcion_values = funcion(t_values)\n",
    "# Ejemplo de uso:\n",
    "vector_T_funcion_real = t_values  # Tu vector de valores para t\n",
    "vector_f_solucion = funcion_values      # Tu vector de valores para x\n",
    "\n",
    "plot_custom(vector_T_funcion_real, vector_f_solucion, \n",
    "            title=\"Función $tan(t^2 + \\pi/4)$\",\n",
    "            xlabel='$t$',\n",
    "            ylabel='$x$',\n",
    "            label=\"Solución analítica: $\\\\tan(t^2 + \\pi/4)$\",\n",
    "            color='navy',\n",
    "            linestyle='-',\n",
    "            linewidth=0.9,\n",
    "            markersize=12,\n",
    "            savefig=\"Solución_analítica_segunda.pdf\")\n"
   ]
  },
  {
   "cell_type": "code",
   "execution_count": null,
   "metadata": {},
   "outputs": [],
   "source": []
  }
 ],
 "metadata": {
  "kernelspec": {
   "display_name": "Python 3",
   "language": "python",
   "name": "python3"
  },
  "language_info": {
   "codemirror_mode": {
    "name": "ipython",
    "version": 3
   },
   "file_extension": ".py",
   "mimetype": "text/x-python",
   "name": "python",
   "nbconvert_exporter": "python",
   "pygments_lexer": "ipython3",
   "version": "3.10.12"
  }
 },
 "nbformat": 4,
 "nbformat_minor": 2
}
